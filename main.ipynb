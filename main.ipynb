{
 "cells": [
  {
   "cell_type": "code",
   "execution_count": null,
   "metadata": {},
   "outputs": [],
   "source": [
    "import os\n",
    "os.environ['CUDA_DEVICE_ORDER']=\"PCI_BUS_ID\"\n",
    "os.environ['CUDA_VISIBLEЕ_DEVICES']=\"0\"\n",
    "from tensorflow.keras import Model\n",
    "from tensorflow.keras.applications.mobilenet_v2 import MobileNetV2, preprocess_input\n",
    "from tensorflow.keras.preprocessing.image import ImageDataGenerator\n",
    "from tensorflow.keras.layers import Dense, GlobalAveragePooling2D\n",
    "from tensorflow.keras.optimizers import Adam"
   ]
  },
  {
   "cell_type": "code",
   "execution_count": null,
   "metadata": {},
   "outputs": [],
   "source": [
    "import tensorflow as tf\n",
    "# GPU санах ойн өсөлтийг зөвхөн шаардлагатай зүйлээр хязгаарлаарай\n",
    "# gpu санах ойн өсөлтийг зөвхөн хэрэгцээтэй зүйлээр хязгаарлах\n",
    "physical_devices = tf.config.list_physical_devices('GPU')\n",
    "try:\n",
    "    tf.config.experimental.set_memory_growth(physical_devices[0], True)\n",
    "except:\n",
    "    # inviald \n",
    "    print('Failed')"
   ]
  },
  {
   "cell_type": "code",
   "execution_count": null,
   "metadata": {},
   "outputs": [],
   "source": [
    "# datasets link https://www.kaggle.com/datasets/crowww/a-large-scale-fish-dataset?resource=download\n",
    "train_path = r\"C:\\Users\\mbsav\\Documents\\hicheel\\hiimel oyun\\biy-daalt\\Fish\\Fish_Dataset\\Fish_Dataset\"\n",
    "valid_path = r\"C:\\Users\\mbsav\\Documents\\hicheel\\hiimel oyun\\biy-daalt\\Fish\\Fish_Dataset\\Validation\"\n",
    "train_generator = ImageDataGenerator(rotation_range=15, width_shift_range=.1, height_shift_range=.1, brightness_range=(0, .2)).flow_from_directory(train_path, target_size=(590,445), batch_size=30)\n",
    "\n",
    "valid_generator = ImageDataGenerator(rotation_range=15, width_shift_range=.1, height_shift_range=.1, brightness_range=(0, .2)).flow_from_directory(valid_path, target_size=(590,445), batch_size=30)\n"
   ]
  },
  {
   "cell_type": "code",
   "execution_count": null,
   "metadata": {},
   "outputs": [],
   "source": [
    "base_model = MobileNetV2(weights='imagenet', include_top=False)\n",
    "\n",
    "x = base_model.output\n",
    "x = GlobalAveragePooling2D()(x)\n",
    "x = Dense(512, activation='relu')(x)\n",
    "x = Dense(256, activation='relu')(x)\n",
    "x = Dense(128, activation='relu')(x)\n",
    "preds = Dense(9, activation='softmax')(x)\n",
    "\n",
    "model = Model(inputs=base_model.input, outputs=preds)\n"
   ]
  },
  {
   "cell_type": "code",
   "execution_count": null,
   "metadata": {},
   "outputs": [],
   "source": [
    "model.summary()"
   ]
  },
  {
   "cell_type": "code",
   "execution_count": null,
   "metadata": {},
   "outputs": [],
   "source": [
    "for layers in model.layers[:5]:\n",
    "    layers.trainable = False"
   ]
  },
  {
   "cell_type": "code",
   "execution_count": null,
   "metadata": {},
   "outputs": [],
   "source": [
    "model.summary()"
   ]
  },
  {
   "cell_type": "code",
   "execution_count": null,
   "metadata": {},
   "outputs": [],
   "source": [
    "epochs = 20\n",
    "optimizer = Adam(learning_rate=.01)\n",
    "model.compile(loss='categorical_crossentropy', optimizer=optimizer, metrics=['accuracy'])\n",
    "model.fit(train_generator, validation_data=valid_generator, epochs=epochs)\n"
   ]
  }
 ],
 "metadata": {
  "kernelspec": {
   "display_name": "Python 3",
   "language": "python",
   "name": "python3"
  },
  "language_info": {
   "codemirror_mode": {
    "name": "ipython",
    "version": 3
   },
   "file_extension": ".py",
   "mimetype": "text/x-python",
   "name": "python",
   "nbconvert_exporter": "python",
   "pygments_lexer": "ipython3",
   "version": "3.10.11"
  },
  "orig_nbformat": 4
 },
 "nbformat": 4,
 "nbformat_minor": 2
}
